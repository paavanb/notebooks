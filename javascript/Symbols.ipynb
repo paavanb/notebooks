{
 "cells": [
  {
   "cell_type": "markdown",
   "metadata": {
    "deletable": true,
    "editable": true
   },
   "source": [
    "# Symbols\n",
    "\n",
    "Symbols are a primitive in Javascript. The only way to create a symbol is via the class constructor `Symbol`, which creates a unique symbol every time it is invoked."
   ]
  },
  {
   "cell_type": "code",
   "execution_count": 25,
   "metadata": {
    "collapsed": false,
    "deletable": true,
    "editable": true
   },
   "outputs": [
    {
     "name": "stdout",
     "output_type": "stream",
     "text": [
      "a: Symbol()\n",
      "a == b: false\n"
     ]
    },
    {
     "data": {
      "text/plain": [
       "undefined"
      ]
     },
     "execution_count": 25,
     "metadata": {},
     "output_type": "execute_result"
    }
   ],
   "source": [
    "var a = Symbol()\n",
    "var b = Symbol()\n",
    "\n",
    "console.log(`a: ${a.toString()}`)\n",
    "console.log(`a == b: ${a == b}`)"
   ]
  },
  {
   "cell_type": "markdown",
   "metadata": {},
   "source": [
    "Unlike other primitives, there is no wrapper type for symbols. This was to avoid confusion, since the constructor creates a unique symbol every time."
   ]
  },
  {
   "cell_type": "code",
   "execution_count": 26,
   "metadata": {
    "collapsed": false,
    "deletable": true,
    "editable": true
   },
   "outputs": [
    {
     "ename": "TypeError",
     "evalue": "Symbol is not a constructor",
     "output_type": "error",
     "traceback": [
      "TypeError: Symbol is not a constructor",
      "    at new Symbol (native)",
      "    at evalmachine.<anonymous>:1:1",
      "    at Object.exports.runInThisContext (vm.js:54:17)",
      "    at run ([eval]:613:19)",
      "    at onRunRequest ([eval]:384:22)",
      "    at onMessage ([eval]:352:17)",
      "    at emitTwo (events.js:87:13)",
      "    at process.emit (events.js:172:7)",
      "    at handleMessage (internal/child_process.js:685:10)",
      "    at Pipe.channel.onread (internal/child_process.js:440:11)"
     ]
    }
   ],
   "source": [
    "new Symbol()"
   ]
  },
  {
   "cell_type": "markdown",
   "metadata": {
    "deletable": true,
    "editable": true
   },
   "source": [
    "The only intended purpose of a symbol is to be used as an object's property."
   ]
  },
  {
   "cell_type": "code",
   "execution_count": 27,
   "metadata": {
    "collapsed": false,
    "deletable": true,
    "editable": true
   },
   "outputs": [
    {
     "data": {
      "text/plain": [
       "'secret property?'"
      ]
     },
     "execution_count": 27,
     "metadata": {},
     "output_type": "execute_result"
    }
   ],
   "source": [
    "obj = {}\n",
    "obj[\"provider_id\"] = 100\n",
    "obj[Symbol()] = \"secret property?\""
   ]
  },
  {
   "cell_type": "code",
   "execution_count": 28,
   "metadata": {
    "collapsed": false,
    "deletable": true,
    "editable": true
   },
   "outputs": [
    {
     "data": {
      "text/plain": [
       "[ 'provider_id' ]"
      ]
     },
     "execution_count": 28,
     "metadata": {},
     "output_type": "execute_result"
    }
   ],
   "source": [
    "Object.getOwnPropertyNames(obj)"
   ]
  },
  {
   "cell_type": "code",
   "execution_count": 29,
   "metadata": {
    "collapsed": false,
    "deletable": true,
    "editable": true
   },
   "outputs": [
    {
     "data": {
      "text/plain": [
       "100"
      ]
     },
     "execution_count": 29,
     "metadata": {},
     "output_type": "execute_result"
    }
   ],
   "source": [
    "obj.provider_id"
   ]
  },
  {
   "cell_type": "markdown",
   "metadata": {},
   "source": [
    "It's not possible to access the secret property by creating a symbol, since the new symbol will not equal the symbol used as the key."
   ]
  },
  {
   "cell_type": "code",
   "execution_count": 30,
   "metadata": {
    "collapsed": false,
    "deletable": true,
    "editable": true
   },
   "outputs": [
    {
     "data": {
      "text/plain": [
       "undefined"
      ]
     },
     "execution_count": 30,
     "metadata": {},
     "output_type": "execute_result"
    }
   ],
   "source": [
    "obj[Symbol()]"
   ]
  },
  {
   "cell_type": "markdown",
   "metadata": {},
   "source": [
    "However, we can still get to it with a little bit of reflection."
   ]
  },
  {
   "cell_type": "code",
   "execution_count": 31,
   "metadata": {
    "collapsed": false,
    "deletable": true,
    "editable": true
   },
   "outputs": [
    {
     "data": {
      "text/plain": [
       "[ Symbol() ]"
      ]
     },
     "execution_count": 31,
     "metadata": {},
     "output_type": "execute_result"
    }
   ],
   "source": [
    "Object.getOwnPropertySymbols(obj)"
   ]
  },
  {
   "cell_type": "code",
   "execution_count": 32,
   "metadata": {
    "collapsed": false,
    "deletable": true,
    "editable": true
   },
   "outputs": [
    {
     "data": {
      "text/plain": [
       "'secret property?'"
      ]
     },
     "execution_count": 32,
     "metadata": {},
     "output_type": "execute_result"
    }
   ],
   "source": [
    "secret_key = Object.getOwnPropertySymbols(obj)[0]\n",
    "obj[secret_key]"
   ]
  },
  {
   "cell_type": "markdown",
   "metadata": {
    "deletable": true,
    "editable": true
   },
   "source": [
    "Let's use this approach to see how we could get \"private\" methods."
   ]
  },
  {
   "cell_type": "code",
   "execution_count": 46,
   "metadata": {
    "collapsed": false,
    "deletable": true,
    "editable": true,
    "scrolled": true
   },
   "outputs": [
    {
     "data": {
      "text/plain": [
       "'use strict'"
      ]
     },
     "execution_count": 46,
     "metadata": {},
     "output_type": "execute_result"
    }
   ],
   "source": [
    "\"use strict\"\n",
    "var validLocations = Symbol()\n",
    "var Locations = class {\n",
    "    constructor(locations) {\n",
    "        this.locations = locations\n",
    "    }\n",
    "       \n",
    "    getIds() {\n",
    "        let locs = this[validLocations]()\n",
    "        return locs.map((loc) => {return loc.id})\n",
    "    }\n",
    "    \n",
    "    [validLocations]() {\n",
    "        return this.locations.filter((loc) => {return loc.id != undefined && loc.id != null})\n",
    "    }\n",
    "}\n",
    "var c = new Locations([{id: 1}, {id: null}, {id: 10}])"
   ]
  },
  {
   "cell_type": "code",
   "execution_count": 47,
   "metadata": {
    "collapsed": false,
    "deletable": true,
    "editable": true,
    "scrolled": true
   },
   "outputs": [
    {
     "data": {
      "text/plain": [
       "[ 1, 10 ]"
      ]
     },
     "execution_count": 47,
     "metadata": {},
     "output_type": "execute_result"
    }
   ],
   "source": [
    "c.getIds()"
   ]
  },
  {
   "cell_type": "code",
   "execution_count": 35,
   "metadata": {
    "collapsed": false,
    "deletable": true,
    "editable": true
   },
   "outputs": [
    {
     "data": {
      "text/plain": [
       "[ 'constructor', 'getIds' ]"
      ]
     },
     "execution_count": 35,
     "metadata": {},
     "output_type": "execute_result"
    }
   ],
   "source": [
    "Object.getOwnPropertyNames(c.__proto__)"
   ]
  },
  {
   "cell_type": "code",
   "execution_count": 36,
   "metadata": {
    "collapsed": false,
    "deletable": true,
    "editable": true
   },
   "outputs": [
    {
     "data": {
      "text/plain": [
       "[ Symbol() ]"
      ]
     },
     "execution_count": 36,
     "metadata": {},
     "output_type": "execute_result"
    }
   ],
   "source": [
    "Object.getOwnPropertySymbols(c.__proto__)"
   ]
  },
  {
   "cell_type": "code",
   "execution_count": 37,
   "metadata": {
    "collapsed": false,
    "deletable": true,
    "editable": true
   },
   "outputs": [
    {
     "data": {
      "text/plain": [
       "[ { id: 1 }, { id: 10 } ]"
      ]
     },
     "execution_count": 37,
     "metadata": {},
     "output_type": "execute_result"
    }
   ],
   "source": [
    "var private_method = Object.getOwnPropertySymbols(c.__proto__)[0]\n",
    "c[private_method]()"
   ]
  },
  {
   "cell_type": "markdown",
   "metadata": {
    "deletable": true,
    "editable": true
   },
   "source": [
    "## Enums?\n",
    "The semantics are cumbersome, but Symbols can also be used to implement a basic enum."
   ]
  },
  {
   "cell_type": "code",
   "execution_count": 38,
   "metadata": {
    "collapsed": false,
    "deletable": true,
    "editable": true
   },
   "outputs": [
    {
     "data": {
      "text/plain": [
       "'use strict'"
      ]
     },
     "execution_count": 38,
     "metadata": {},
     "output_type": "execute_result"
    }
   ],
   "source": [
    "'use strict'\n",
    "var Suits = {\n",
    "    HEARTS: Symbol(\"Hearts\"),\n",
    "    DIAMONDS: Symbol(\"Diamonds\"),\n",
    "    CLUBS: Symbol(\"Clubs\"),\n",
    "    SPADES: Symbol(\"Spades\"),\n",
    "    show: (suit) => {\n",
    "        // There is no method for retrieving a string from a symbol. Here's a workaround that leverages toString()\n",
    "        var pattern = /^Symbol\\((.+)\\)$/\n",
    "        return suit.toString().match(pattern)[1]\n",
    "    }\n",
    "}\n",
    "\n",
    "var Card = class {\n",
    "    constructor(rank, suit) {\n",
    "        this.rank = String(rank)\n",
    "        this.suit = suit\n",
    "    }\n",
    "    \n",
    "    toString() {\n",
    "        return `${this.rank} of ${Suits.show(this.suit)}`\n",
    "    }\n",
    "}"
   ]
  },
  {
   "cell_type": "code",
   "execution_count": 39,
   "metadata": {
    "collapsed": false,
    "deletable": true,
    "editable": true
   },
   "outputs": [
    {
     "data": {
      "text/plain": [
       "'1 of Hearts'"
      ]
     },
     "execution_count": 39,
     "metadata": {},
     "output_type": "execute_result"
    }
   ],
   "source": [
    "c = new Card(1, Suits.HEARTS)\n",
    "c.toString()"
   ]
  },
  {
   "cell_type": "markdown",
   "metadata": {
    "deletable": true,
    "editable": true
   },
   "source": [
    "## Well Known Symbols\n",
    "Well-known symbols are special symbols exposed by javascript for developers to implement. They are similar to Python's dunder (\"magic\") methods.\n",
    "Let's look at the well-known symbol `Symbol.iterator`, which can be thought of as an analog to Python's `__iter__`"
   ]
  },
  {
   "cell_type": "code",
   "execution_count": 40,
   "metadata": {
    "collapsed": false,
    "deletable": true,
    "editable": true
   },
   "outputs": [
    {
     "data": {
      "text/plain": [
       "'use strict'"
      ]
     },
     "execution_count": 40,
     "metadata": {},
     "output_type": "execute_result"
    }
   ],
   "source": [
    "'use strict'\n",
    "var Deck = class {\n",
    "    constructor() {\n",
    "        this.cards = []\n",
    "        for (let suit of [Suits.HEARTS, Suits.DIAMONDS, Suits.SPADES, Suits.CLUBS]) {\n",
    "            for (let i=1;i<14;i++) {\n",
    "                this.cards.push(new Card(i, suit))\n",
    "            }\n",
    "        }\n",
    "    }\n",
    "    \n",
    "    [Symbol.iterator]() {\n",
    "        return this.cards[Symbol.iterator]()\n",
    "    }\n",
    "}"
   ]
  },
  {
   "cell_type": "code",
   "execution_count": 41,
   "metadata": {
    "collapsed": false,
    "deletable": true,
    "editable": true,
    "scrolled": true
   },
   "outputs": [
    {
     "name": "stdout",
     "output_type": "stream",
     "text": [
      "1 of Spades\n",
      "2 of Spades\n",
      "3 of Spades\n",
      "4 of Spades\n",
      "5 of Spades\n",
      "6 of Spades\n",
      "7 of Spades\n",
      "8 of Spades\n",
      "9 of Spades\n",
      "10 of Spades\n",
      "11 of Spades\n",
      "12 of Spades\n",
      "13 of Spades\n"
     ]
    },
    {
     "data": {
      "text/plain": [
       "undefined"
      ]
     },
     "execution_count": 41,
     "metadata": {},
     "output_type": "execute_result"
    }
   ],
   "source": [
    "'use strict'\n",
    "var deck = new Deck()\n",
    "for (let card of deck) {\n",
    "    if (card.suit == Suits.SPADES) {\n",
    "        console.log(card.toString())\n",
    "    }\n",
    "}"
   ]
  },
  {
   "cell_type": "markdown",
   "metadata": {},
   "source": [
    "# Useful Sources\n",
    "\n",
    "* MDN [Entry](https://developer.mozilla.org/en-US/docs/Web/JavaScript/Reference/Global_Objects/Symbol) and [Glossary Entry](https://developer.mozilla.org/en-US/docs/Glossary/Symbol) for Symbols\n",
    "* [Exploringjs Chapter on Symbols](http://exploringjs.com/es6/ch_symbols.html) - An in-depth look at symbols and how they behave, with many examples."
   ]
  },
  {
   "cell_type": "markdown",
   "metadata": {},
   "source": [
    "# Down the Rabbit Hole\n",
    "While making this I bounced around several different ideas for a simple enum implementation using symbols. I picked a simple one for the sake of presentation, but there is an annoying limitation: you can't iterate over it without bringing in `show`. There are two ideas I thought of that would mitigate this, neither of which are aesthetically pleasing."
   ]
  },
  {
   "cell_type": "markdown",
   "metadata": {},
   "source": [
    "### Using the prototype\n",
    "Putting `show` on the prototype of `Suits` would prevent it from being caught by `Object.keys()`"
   ]
  },
  {
   "cell_type": "code",
   "execution_count": 42,
   "metadata": {
    "collapsed": false,
    "scrolled": false
   },
   "outputs": [
    {
     "data": {
      "text/plain": [
       "{ show: [Function] }"
      ]
     },
     "execution_count": 42,
     "metadata": {},
     "output_type": "execute_result"
    }
   ],
   "source": [
    "'use strict'\n",
    "var Suits = {\n",
    "    HEARTS: Symbol(\"Hearts\"),\n",
    "    DIAMONDS: Symbol(\"Diamonds\"),\n",
    "    CLUBS: Symbol(\"Clubs\"),\n",
    "    SPADES: Symbol(\"Spades\")\n",
    "}\n",
    "Suits.__proto__ = {\n",
    "    show: (suit) => {\n",
    "        var pattern = /^Symbol\\((.+)\\)$/\n",
    "        return suit.toString().match(pattern)[1]\n",
    "    }\n",
    "}"
   ]
  },
  {
   "cell_type": "code",
   "execution_count": 43,
   "metadata": {
    "collapsed": false,
    "scrolled": true
   },
   "outputs": [
    {
     "data": {
      "text/plain": [
       "'123'"
      ]
     },
     "execution_count": 43,
     "metadata": {},
     "output_type": "execute_result"
    }
   ],
   "source": [
    "Suits.show(Symbol('123'))"
   ]
  },
  {
   "cell_type": "code",
   "execution_count": 44,
   "metadata": {
    "collapsed": false,
    "scrolled": false
   },
   "outputs": [
    {
     "data": {
      "text/plain": [
       "[ 'HEARTS', 'DIAMONDS', 'CLUBS', 'SPADES' ]"
      ]
     },
     "execution_count": 44,
     "metadata": {},
     "output_type": "execute_result"
    }
   ],
   "source": [
    "Object.keys(Suits)"
   ]
  },
  {
   "cell_type": "markdown",
   "metadata": {},
   "source": [
    "### Using Property Descriptors\n",
    "We can modify the property descriptor of `toString` to make it not enumerable."
   ]
  },
  {
   "cell_type": "code",
   "execution_count": 45,
   "metadata": {
    "collapsed": false
   },
   "outputs": [
    {
     "data": {
      "text/plain": [
       "[ 'HEARTS', 'DIAMONDS', 'CLUBS', 'SPADES' ]"
      ]
     },
     "execution_count": 45,
     "metadata": {},
     "output_type": "execute_result"
    }
   ],
   "source": [
    "var Suits = {\n",
    "    HEARTS: Symbol(\"Hearts\"),\n",
    "    DIAMONDS: Symbol(\"Diamonds\"),\n",
    "    CLUBS: Symbol(\"Clubs\"),\n",
    "    SPADES: Symbol(\"Spades\"),\n",
    "    show: (suit) => {\n",
    "        // There is no method for retrieving a string from a symbol. Here's a workaround that leverages toString()\n",
    "        var pattern = /^Symbol\\((.+)\\)$/\n",
    "        return suit.toString().match(pattern)[1]\n",
    "    }\n",
    "}\n",
    "Object.defineProperty(Suits, 'show', {enumerable: false})\n",
    "\n",
    "Object.keys(Suits)"
   ]
  }
 ],
 "metadata": {
  "kernelspec": {
   "display_name": "Javascript (Node.js)",
   "language": "javascript",
   "name": "javascript"
  },
  "language_info": {
   "file_extension": ".js",
   "mimetype": "application/javascript",
   "name": "javascript",
   "version": "4.1.0"
  }
 },
 "nbformat": 4,
 "nbformat_minor": 2
}
