{
 "cells": [
  {
   "cell_type": "markdown",
   "metadata": {
    "deletable": true,
    "editable": true
   },
   "source": [
    "# Symbols\n",
    "\n",
    "Symbols are a primitive in Javascript. The only way to create a symbol is via the class constructor `Symbol`, which creates a unique symbol every time it is invoked."
   ]
  },
  {
   "cell_type": "code",
   "execution_count": null,
   "metadata": {
    "collapsed": false,
    "deletable": true,
    "editable": true
   },
   "outputs": [],
   "source": [
    "var a = Symbol()\n",
    "var b = Symbol()\n",
    "\n",
    "console.log(`a: ${a.toString()}`)\n",
    "console.log(`a == b: ${a == b}`)"
   ]
  },
  {
   "cell_type": "markdown",
   "metadata": {
    "deletable": true,
    "editable": true
   },
   "source": [
    "Unlike other primitives, there is no wrapper type for symbols. This was to avoid confusion, since the constructor creates a unique symbol every time."
   ]
  },
  {
   "cell_type": "code",
   "execution_count": null,
   "metadata": {
    "collapsed": false,
    "deletable": true,
    "editable": true
   },
   "outputs": [],
   "source": [
    "new Symbol()"
   ]
  },
  {
   "cell_type": "markdown",
   "metadata": {
    "deletable": true,
    "editable": true
   },
   "source": [
    "The only intended purpose of a symbol is to be used as an object's property."
   ]
  },
  {
   "cell_type": "code",
   "execution_count": null,
   "metadata": {
    "collapsed": false,
    "deletable": true,
    "editable": true
   },
   "outputs": [],
   "source": [
    "obj = {}\n",
    "obj[\"provider_id\"] = 100\n",
    "obj[Symbol()] = \"secret property?\""
   ]
  },
  {
   "cell_type": "code",
   "execution_count": null,
   "metadata": {
    "collapsed": false,
    "deletable": true,
    "editable": true
   },
   "outputs": [],
   "source": [
    "Object.getOwnPropertyNames(obj)"
   ]
  },
  {
   "cell_type": "code",
   "execution_count": null,
   "metadata": {
    "collapsed": false,
    "deletable": true,
    "editable": true
   },
   "outputs": [],
   "source": [
    "obj.provider_id"
   ]
  },
  {
   "cell_type": "markdown",
   "metadata": {
    "deletable": true,
    "editable": true
   },
   "source": [
    "It's not possible to access the secret property by creating a symbol, since the new symbol will not equal the symbol used as the key."
   ]
  },
  {
   "cell_type": "code",
   "execution_count": null,
   "metadata": {
    "collapsed": false,
    "deletable": true,
    "editable": true
   },
   "outputs": [],
   "source": [
    "obj[Symbol()]"
   ]
  },
  {
   "cell_type": "markdown",
   "metadata": {
    "deletable": true,
    "editable": true
   },
   "source": [
    "However, we can still get to it with a little bit of reflection."
   ]
  },
  {
   "cell_type": "code",
   "execution_count": null,
   "metadata": {
    "collapsed": false,
    "deletable": true,
    "editable": true
   },
   "outputs": [],
   "source": [
    "Object.getOwnPropertySymbols(obj)"
   ]
  },
  {
   "cell_type": "code",
   "execution_count": null,
   "metadata": {
    "collapsed": false,
    "deletable": true,
    "editable": true
   },
   "outputs": [],
   "source": [
    "secret_key = Object.getOwnPropertySymbols(obj)[0]\n",
    "obj[secret_key]"
   ]
  },
  {
   "cell_type": "markdown",
   "metadata": {
    "deletable": true,
    "editable": true
   },
   "source": [
    "Let's use this approach to see how we could get \"private\" methods."
   ]
  },
  {
   "cell_type": "code",
   "execution_count": null,
   "metadata": {
    "collapsed": false,
    "deletable": true,
    "editable": true,
    "scrolled": true
   },
   "outputs": [],
   "source": [
    "\"use strict\"\n",
    "var validLocations = Symbol()\n",
    "var Locations = class {\n",
    "    constructor(locations) {\n",
    "        this.locations = locations\n",
    "    }\n",
    "       \n",
    "    getIds() {\n",
    "        let locs = this[validLocations]()\n",
    "        return locs.map((loc) => {return loc.id})\n",
    "    }\n",
    "    \n",
    "    [validLocations]() {\n",
    "        return this.locations.filter((loc) => {return loc.id != undefined && loc.id != null})\n",
    "    }\n",
    "}\n",
    "var c = new Locations([{id: 1}, {id: null}, {id: 10}])"
   ]
  },
  {
   "cell_type": "code",
   "execution_count": null,
   "metadata": {
    "collapsed": false,
    "deletable": true,
    "editable": true,
    "scrolled": true
   },
   "outputs": [],
   "source": [
    "c.getIds()"
   ]
  },
  {
   "cell_type": "code",
   "execution_count": null,
   "metadata": {
    "collapsed": false,
    "deletable": true,
    "editable": true
   },
   "outputs": [],
   "source": [
    "Object.getOwnPropertyNames(c.__proto__)"
   ]
  },
  {
   "cell_type": "code",
   "execution_count": null,
   "metadata": {
    "collapsed": false,
    "deletable": true,
    "editable": true
   },
   "outputs": [],
   "source": [
    "Object.getOwnPropertySymbols(c.__proto__)"
   ]
  },
  {
   "cell_type": "code",
   "execution_count": null,
   "metadata": {
    "collapsed": false,
    "deletable": true,
    "editable": true
   },
   "outputs": [],
   "source": [
    "var private_method = Object.getOwnPropertySymbols(c.__proto__)[0]\n",
    "c[private_method]()"
   ]
  },
  {
   "cell_type": "markdown",
   "metadata": {
    "deletable": true,
    "editable": true
   },
   "source": [
    "## Enums?\n",
    "The semantics are cumbersome, but Symbols can also be used to implement a basic enum."
   ]
  },
  {
   "cell_type": "code",
   "execution_count": null,
   "metadata": {
    "collapsed": false,
    "deletable": true,
    "editable": true
   },
   "outputs": [],
   "source": [
    "'use strict'\n",
    "var Suits = {\n",
    "    HEARTS: Symbol(\"Hearts\"),\n",
    "    DIAMONDS: Symbol(\"Diamonds\"),\n",
    "    CLUBS: Symbol(\"Clubs\"),\n",
    "    SPADES: Symbol(\"Spades\"),\n",
    "    show: (suit) => {\n",
    "        // There is no method for retrieving a string from a symbol. Here's a workaround that leverages toString()\n",
    "        var pattern = /^Symbol\\((.+)\\)$/\n",
    "        return suit.toString().match(pattern)[1]\n",
    "    }\n",
    "}\n",
    "\n",
    "var Card = class {\n",
    "    constructor(rank, suit) {\n",
    "        this.rank = String(rank)\n",
    "        this.suit = suit\n",
    "    }\n",
    "    \n",
    "    toString() {\n",
    "        return `${this.rank} of ${Suits.show(this.suit)}`\n",
    "    }\n",
    "}"
   ]
  },
  {
   "cell_type": "code",
   "execution_count": null,
   "metadata": {
    "collapsed": false,
    "deletable": true,
    "editable": true
   },
   "outputs": [],
   "source": [
    "c = new Card(1, Suits.HEARTS)\n",
    "c.toString()"
   ]
  },
  {
   "cell_type": "markdown",
   "metadata": {
    "deletable": true,
    "editable": true
   },
   "source": [
    "## Well Known Symbols\n",
    "Well-known symbols are special symbols exposed by javascript for developers to implement. They are similar to Python's dunder (\"magic\") methods.\n",
    "Let's look at the well-known symbol `Symbol.iterator`, which can be thought of as an analog to Python's `__iter__`"
   ]
  },
  {
   "cell_type": "code",
   "execution_count": null,
   "metadata": {
    "collapsed": false,
    "deletable": true,
    "editable": true
   },
   "outputs": [],
   "source": [
    "'use strict'\n",
    "var Deck = class {\n",
    "    constructor() {\n",
    "        this.cards = []\n",
    "        for (let suit of [Suits.HEARTS, Suits.DIAMONDS, Suits.SPADES, Suits.CLUBS]) {\n",
    "            for (let i=1;i<14;i++) {\n",
    "                this.cards.push(new Card(i, suit))\n",
    "            }\n",
    "        }\n",
    "    }\n",
    "    \n",
    "    [Symbol.iterator]() {\n",
    "        return this.cards[Symbol.iterator]()\n",
    "    }\n",
    "}"
   ]
  },
  {
   "cell_type": "code",
   "execution_count": null,
   "metadata": {
    "collapsed": false,
    "deletable": true,
    "editable": true,
    "scrolled": true
   },
   "outputs": [],
   "source": [
    "'use strict'\n",
    "var deck = new Deck()\n",
    "for (let card of deck) {\n",
    "    if (card.suit == Suits.SPADES) {\n",
    "        console.log(card.toString())\n",
    "    }\n",
    "}"
   ]
  },
  {
   "cell_type": "markdown",
   "metadata": {
    "deletable": true,
    "editable": true
   },
   "source": [
    "# Useful Sources\n",
    "\n",
    "* MDN [Entry](https://developer.mozilla.org/en-US/docs/Web/JavaScript/Reference/Global_Objects/Symbol) and [Glossary Entry](https://developer.mozilla.org/en-US/docs/Glossary/Symbol) for Symbols\n",
    "* [Exploringjs Chapter on Symbols](http://exploringjs.com/es6/ch_symbols.html) - An in-depth look at symbols and how they behave, with many examples."
   ]
  },
  {
   "cell_type": "markdown",
   "metadata": {
    "deletable": true,
    "editable": true
   },
   "source": [
    "# Down the Rabbit Hole\n",
    "While making this I bounced around several different ideas for a simple enum implementation using symbols. I picked a simple one for the sake of presentation, but there is an annoying limitation: you can't iterate over it without bringing in `show`. There are two ideas I thought of that would mitigate this, neither of which are aesthetically pleasing."
   ]
  },
  {
   "cell_type": "markdown",
   "metadata": {
    "deletable": true,
    "editable": true
   },
   "source": [
    "### Using the prototype\n",
    "Putting `show` on the prototype of `Suits` would prevent it from being caught by `Object.keys()`"
   ]
  },
  {
   "cell_type": "code",
   "execution_count": null,
   "metadata": {
    "collapsed": false,
    "deletable": true,
    "editable": true,
    "scrolled": false
   },
   "outputs": [],
   "source": [
    "'use strict'\n",
    "var Suits = {\n",
    "    HEARTS: Symbol(\"Hearts\"),\n",
    "    DIAMONDS: Symbol(\"Diamonds\"),\n",
    "    CLUBS: Symbol(\"Clubs\"),\n",
    "    SPADES: Symbol(\"Spades\")\n",
    "}\n",
    "Suits.__proto__ = {\n",
    "    show: (suit) => {\n",
    "        var pattern = /^Symbol\\((.+)\\)$/\n",
    "        return suit.toString().match(pattern)[1]\n",
    "    }\n",
    "}"
   ]
  },
  {
   "cell_type": "code",
   "execution_count": null,
   "metadata": {
    "collapsed": false,
    "deletable": true,
    "editable": true,
    "scrolled": true
   },
   "outputs": [],
   "source": [
    "Suits.show(Symbol('123'))"
   ]
  },
  {
   "cell_type": "code",
   "execution_count": null,
   "metadata": {
    "collapsed": false,
    "deletable": true,
    "editable": true,
    "scrolled": false
   },
   "outputs": [],
   "source": [
    "Object.keys(Suits)"
   ]
  },
  {
   "cell_type": "markdown",
   "metadata": {
    "deletable": true,
    "editable": true
   },
   "source": [
    "### Using Property Descriptors\n",
    "We can modify the property descriptor of `toString` to make it not enumerable."
   ]
  },
  {
   "cell_type": "code",
   "execution_count": null,
   "metadata": {
    "collapsed": false,
    "deletable": true,
    "editable": true,
    "scrolled": true
   },
   "outputs": [],
   "source": [
    "var Suits = {\n",
    "    HEARTS: Symbol(\"Hearts\"),\n",
    "    DIAMONDS: Symbol(\"Diamonds\"),\n",
    "    CLUBS: Symbol(\"Clubs\"),\n",
    "    SPADES: Symbol(\"Spades\"),\n",
    "    show: (suit) => {\n",
    "        // There is no method for retrieving a string from a symbol. Here's a workaround that leverages toString()\n",
    "        var pattern = /^Symbol\\((.+)\\)$/\n",
    "        return suit.toString().match(pattern)[1]\n",
    "    }\n",
    "}\n",
    "Object.defineProperty(Suits, 'show', {enumerable: false})\n",
    "\n",
    "Object.keys(Suits)"
   ]
  },
  {
   "cell_type": "markdown",
   "metadata": {
    "deletable": true,
    "editable": true
   },
   "source": [
    "## Wait, Why?\n",
    "At this point, I wondered why use symbols at all. We could have just created an object that mapped all-caps keys to strings, and we wouldn't even need a tricky `show` function in the first place!\n",
    "\n",
    "### Type Safety\n",
    "One of the primary advantages of enums touted in other languages is type safety. Using symbols ensures that the only value that can ever equal a member of an enum is the member itself. This eliminates a whole class of type-related bugs (e.g. we attempt to do equality checks with strings and misspell one.)\n",
    "\n",
    "### Readability\n",
    "A consequence of type safety, enums implemented with symbols makes code more readable since the only way to fetch a member is from the enum itself. `Suits.HEARTS` contains all the context an engineer needs to understand what this value is and why it is being used. `\"hearts\"` is a little more cryptic, and exposes a host of methods that don't make sense for a card suit (e.g. string methods like `search()` and `substring()`). The fact that symbols are so limited is also their strength."
   ]
  },
  {
   "cell_type": "markdown",
   "metadata": {
    "deletable": true,
    "editable": true
   },
   "source": [
    "If we are serious about type safety, then we should also be able to determine whether a symbol belongs to an enumeration. Luckily, we can use the well-known symbol `Symbol.hasInstance` to do exactly this!"
   ]
  },
  {
   "cell_type": "code",
   "execution_count": 3,
   "metadata": {
    "collapsed": false,
    "deletable": true,
    "editable": true,
    "scrolled": true
   },
   "outputs": [
    {
     "data": {
      "text/plain": [
       "true"
      ]
     },
     "execution_count": 3,
     "metadata": {},
     "output_type": "execute_result"
    }
   ],
   "source": [
    "'use strict'\n",
    "var Suits = {\n",
    "    HEARTS: Symbol(\"Hearts\"),\n",
    "    DIAMONDS: Symbol(\"Diamonds\"),\n",
    "    CLUBS: Symbol(\"Clubs\"),\n",
    "    SPADES: Symbol(\"Spades\"),\n",
    "    [Symbol.hasInstance]: (instance) => {\n",
    "        return Object.values(Suits).indexOf(instance) > -1\n",
    "    }\n",
    "}\n",
    "\n",
    "Suits.HEARTS instanceof Suits"
   ]
  }
 ],
 "metadata": {
  "kernelspec": {
   "display_name": "Javascript (Node.js)",
   "language": "javascript",
   "name": "javascript"
  },
  "language_info": {
   "file_extension": ".js",
   "mimetype": "application/javascript",
   "name": "javascript",
   "version": "7.3.0"
  }
 },
 "nbformat": 4,
 "nbformat_minor": 2
}
