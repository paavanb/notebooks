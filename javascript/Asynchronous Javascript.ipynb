{
 "cells": [
  {
   "cell_type": "markdown",
   "metadata": {},
   "source": [
    "# Getting started with this notebook\n",
    "\n",
    "1. Install the nodejs kernel for ipython notebook from here: https://github.com/notablemind/jupyter-nodejs\n",
    "\n",
    "1. In the folder that this notebook is saved, run the following commands:\n",
    "```\n",
    "npm install jquery\n",
    "npm install jsdom@3.1.2\n",
    "```\n",
    "\n",
    "1. Open this notebook and set the kernel to NodeJS (Kernel -> Change Kernel -> NodeJS)"
   ]
  },
  {
   "cell_type": "code",
   "execution_count": 11,
   "metadata": {
    "collapsed": true
   },
   "outputs": [],
   "source": [
    "// The \"%%coffee\" magic lets us use coffeescript in a cell. The downside is that any variables\n",
    "//     defined in the cell can't be used in other cells. \n",
    "//  This is not a problem when writing in javascript.\n",
    "%load_ext coffee"
   ]
  },
  {
   "cell_type": "code",
   "execution_count": 12,
   "metadata": {
    "collapsed": false
   },
   "outputs": [],
   "source": [
    "// Little bit of finagling to trick jquery to work inside Jupyter without a real window.document\n",
    "$ = null\n",
    "env = require('jsdom').env;\n",
    "html = '<html></html>'\n",
    "\n",
    "env(html, function (errors, window) {\n",
    "    $ = require('jquery')(window);\n",
    "  });"
   ]
  },
  {
   "cell_type": "markdown",
   "metadata": {},
   "source": [
    "# Asynchronous != Multithreaded\n",
    "Javascript is single threaded: that's why we can't wait for responses to come back, like in Python. If we wait, nothing else can happen. The website appears frozen because even UI events can't be processed. This is also why writing fast code is so important with javascript: if your code is running, the UI is frozen."
   ]
  },
  {
   "cell_type": "code",
   "execution_count": 13,
   "metadata": {
    "collapsed": false
   },
   "outputs": [
    {
     "name": "stdout",
     "output_type": "stream",
     "text": [
      "Starting blocking request...\n",
      "\n",
      "{\"readyState\":4,\"responseText\":\"{\\n  \\\"args\\\": {}, \\n  \\\"data\\\": \\\"\\\", \\n  \\\"files\\\": {}, \\n  \\\"form\\\": {}, \\n  \\\"headers\\\": {\\n    \\\"Accept\\\": \\\"*/*, */*\\\", \\n    \\\"Host\\\": \\\"www.httpbin.org\\\", \\n    \\\"User-Agent\\\": \\\"node-XMLHttpRequest\\\"\\n  }, \\n  \\\"origin\\\": \\\"209.117.82.227\\\", \\n  \\\"url\\\": \\\"http://www.httpbin.org/delay/1\\\"\\n}\\n\",\"responseJSON\":{\"args\":{},\"data\":\"\",\"files\":{},\"form\":{},\"headers\":{\"Accept\":\"*/*, */*\",\"Host\":\"www.httpbin.org\",\"User-Agent\":\"node-XMLHttpRequest\"},\"origin\":\"209.117.82.227\",\"url\":\"http://www.httpbin.org/delay/1\"},\"status\":200,\"statusText\":\"success\"}\n",
      "\n",
      "Request complete! UI unblocked.\n"
     ]
    }
   ],
   "source": [
    "%%coffee\n",
    "blocking_request = ->\n",
    "  return $.ajax(\n",
    "    async: false  # Mimic python requests\n",
    "    url: 'http://www.httpbin.org/delay/1'\n",
    "    type: 'GET'\n",
    "  )\n",
    "    \n",
    "console.log(\"Starting blocking request...\\n\")\n",
    "console.log(blocking_request())\n",
    "console.log('\\nRequest complete! UI unblocked.')"
   ]
  },
  {
   "cell_type": "markdown",
   "metadata": {},
   "source": [
    "# Callbacks\n",
    "If we can't do work on another thread, how do we make sure we can do work after the asynchronous call finishes? We can pass in a callback function that will get called once the request comes back. This lets the request function return immediately and not block."
   ]
  },
  {
   "cell_type": "code",
   "execution_count": 15,
   "metadata": {
    "collapsed": false
   },
   "outputs": [
    {
     "name": "stdout",
     "output_type": "stream",
     "text": [
      "Starting request...\n",
      "Request made! UI unblocked.\n",
      "\n",
      "Request complete!\n"
     ]
    }
   ],
   "source": [
    "%%coffee\n",
    "make_request = (callback) ->\n",
    "  $.ajax(\n",
    "    url: 'http://www.httpbin.org/delay/2'\n",
    "    type: 'GET'\n",
    "    success: (response) ->\n",
    "      callback(response)\n",
    "  )\n",
    "\n",
    "console.log(\"Starting request...\")\n",
    "\n",
    "make_request((response) ->\n",
    "  console.log(\"Request complete!\")\n",
    ")\n",
    "\n",
    "console.log('Request made! UI unblocked.\\n')"
   ]
  },
  {
   "cell_type": "markdown",
   "metadata": {},
   "source": [
    "## Drawbacks: You only get One\n",
    "You only get one function to do everything, which means that if you need to do more requests, these requests have to live inside the callback. Each request adds another layer to the callback, nesting the code and making it hard to read and reason about. This is sometimes referred to as the \"pyramid of doom\" or \"callback hell\"."
   ]
  },
  {
   "cell_type": "code",
   "execution_count": null,
   "metadata": {
    "collapsed": false
   },
   "outputs": [],
   "source": [
    "%%coffee\n",
    "make_requests = (callback) ->\n",
    "  $.ajax(\n",
    "    url: 'http://www.httpbin.org/delay/1'\n",
    "    type: 'GET'\n",
    "    success: (response) ->\n",
    "      # Do things with response\n",
    "      $.ajax(\n",
    "        url: 'http://www.httpbin.org/headers'\n",
    "        type: 'GET'\n",
    "        success: (response) ->\n",
    "          # Do things with the response\n",
    "          callback(response)\n",
    "      )\n",
    "  )\n",
    "  \n",
    "console.log(\"Making requests...\\n\")\n",
    "\n",
    "make_requests((response) ->\n",
    "  console.log(response)\n",
    "              \n",
    "  $.ajax(\n",
    "    url: 'http://www.httpbin.org/ip'\n",
    "    type: 'GET'\n",
    "    success: (response) ->\n",
    "      console.log(response)\n",
    "  )\n",
    ")"
   ]
  },
  {
   "cell_type": "markdown",
   "metadata": {},
   "source": [
    "## Pitfalls: Error Handling\n",
    "Error handling can be tricky with callbacks. There are two approaches to handling errors raised in asynchronous function. \n",
    "\n",
    "### `error` argument\n",
    "One way is to make the callback take an extra argument representing the error. The callback is then responsible for checking for the existence of this argument and acting accordingly. \n",
    "\n",
    "### Error callback\n",
    "\n",
    "The second approach is for the asynchronous function to take an error handling callback in addition to the normal one (like `$.ajax`)"
   ]
  },
  {
   "cell_type": "code",
   "execution_count": 18,
   "metadata": {
    "collapsed": false
   },
   "outputs": [
    {
     "name": "stdout",
     "output_type": "stream",
     "text": [
      "Something bad happened!\n"
     ]
    }
   ],
   "source": [
    "%%coffee\n",
    "make_request = (callback) ->\n",
    "  # $.ajax takes two functions: success and error\n",
    "  $.ajax(\n",
    "    url: 'http://www.httpbin.org/status/404'\n",
    "    type: 'GET'\n",
    "    success: (response) ->\n",
    "      # All is well, call the callback normally\n",
    "      callback(response)\n",
    "    error: (response) ->\n",
    "      # Error: call the callback with an error argument\n",
    "      callback(null, true)\n",
    "  )\n",
    "  \n",
    "make_request((response, error) ->\n",
    "  if error\n",
    "    console.log(\"Something bad happened!\")\n",
    "    return  # Careful you don't forget the return!\n",
    "    \n",
    "  console.log(\"Request completed successfully\")\n",
    ")"
   ]
  },
  {
   "cell_type": "markdown",
   "metadata": {},
   "source": [
    "When nesting and error handling combine, you can end up with hard-to-maintain code that can have subtle bugs. Here's the nesting example from before, this time with error handling:"
   ]
  },
  {
   "cell_type": "code",
   "execution_count": 20,
   "metadata": {
    "collapsed": false
   },
   "outputs": [
    {
     "name": "stdout",
     "output_type": "stream",
     "text": [
      "Making requests...\n",
      "\n",
      "Failed!\n"
     ]
    }
   ],
   "source": [
    "%%coffee\n",
    "make_requests = (callback) ->\n",
    "  $.ajax(\n",
    "    url: 'http://www.httpbin.org/status/404'\n",
    "    type: 'GET'\n",
    "    success: (response) ->\n",
    "      # Do things with response\n",
    "      $.ajax(\n",
    "        url: 'http://www.httpbin.org/post'\n",
    "        type: 'POST'\n",
    "        success: (response) ->\n",
    "          # Do things with the response\n",
    "          callback(response)\n",
    "        error: ->\n",
    "          callback(null, true)\n",
    "      )\n",
    "    error: ->\n",
    "      callback(null, true)\n",
    "  )\n",
    "  \n",
    "console.log(\"Making requests...\\n\")\n",
    "make_requests((response, error) ->\n",
    "  if error\n",
    "    console.log(\"Failed!\")\n",
    "    return\n",
    "              \n",
    "  console.log(\"Finished requests, making one more...\\n\")\n",
    "    \n",
    "  $.ajax(\n",
    "    url: 'http://www.httpbin.org/delay/1'\n",
    "    type: 'GET'\n",
    "    success: (response) ->\n",
    "      console.log(\"Done!\")\n",
    "    error: ->\n",
    "      console.log(\"Failed! (Duplicate)\")\n",
    "  )\n",
    ")"
   ]
  },
  {
   "cell_type": "markdown",
   "metadata": {
    "collapsed": true
   },
   "source": [
    "There can be tons of duplicated code here, especially if you just want to a generic error handler for every failure case. There's no such thing as a `catch` block with callbacks, so you have to make sure you put error handling code at every level of nesting! \n",
    "\n",
    "## Downsides: Storing Asynchronous Results\n",
    "Asynchronous functions are often used to fetch data that need to be used many times. The problem with callbacks is that there is no way to \"return\" data from them: they are called somewhere else and the return value is ignored."
   ]
  },
  {
   "cell_type": "code",
   "execution_count": 21,
   "metadata": {
    "collapsed": false
   },
   "outputs": [
    {
     "name": "stdout",
     "output_type": "stream",
     "text": [
      "Headers: undefined\n"
     ]
    }
   ],
   "source": [
    "%%coffee\n",
    "# Attempt to \"return\" from callback\n",
    "get_headers = (callback) ->\n",
    "  $.ajax(\n",
    "    url: 'http://www.httpbin.org/headers'\n",
    "    type: 'GET'\n",
    "    success: (response) ->\n",
    "      callback(response)  # Drops the return value on the floor\n",
    "  )\n",
    "  return\n",
    "\n",
    "headers = get_headers((headers) ->\n",
    "  return headers\n",
    ")\n",
    "  \n",
    "# Let's see what's in <headers>...\n",
    "console.log(\"Headers: \" + headers)"
   ]
  },
  {
   "cell_type": "markdown",
   "metadata": {},
   "source": [
    "If we want to fetch provider data for rendering a page, how do we avoid making multiple expensive ajax requests? The best we can do is try to save the result into a variable and check it later. Let's try that."
   ]
  },
  {
   "cell_type": "code",
   "execution_count": 22,
   "metadata": {
    "collapsed": false
   },
   "outputs": [
    {
     "name": "stdout",
     "output_type": "stream",
     "text": [
      "Requesting data!\n",
      "Requesting data!\n"
     ]
    }
   ],
   "source": [
    "%%coffee\n",
    "cached_data = null\n",
    "\n",
    "get_and_cache_data = (callback) ->\n",
    "  console.log(\"Requesting data!\")\n",
    "  $.ajax(\n",
    "    url: 'http://www.httpbin.org/delay/1'\n",
    "    type: 'GET'\n",
    "    success: ->\n",
    "      cached_data = {data: \"stuff\"}\n",
    "      \n",
    "      if callback\n",
    "        callback(cached_data)\n",
    "  )\n",
    "  return\n",
    "  \n",
    "get_and_cache_data()\n",
    "  \n",
    "# Somewhere else, we try to access the data\n",
    "\n",
    "if cached_data\n",
    "  console.log(\"Accessing cached data!\")\n",
    "  # Do things with cached_data\n",
    "else\n",
    "  get_and_cache_data((data) ->\n",
    "    # Do same things with data. Duplicate code!\n",
    "  )"
   ]
  },
  {
   "cell_type": "markdown",
   "metadata": {},
   "source": [
    "We still made multiple ajax requests! What's worse, we have duplicate code trying to manipulate the data: once for if it's synchronous (because it's cached), and once if it's asychronous (because it's not cached yet and we have to fetch it.)\n",
    "\n",
    "Although callbacks might seem fine for dead-simple use cases, they don't scale well to more complex problems."
   ]
  },
  {
   "cell_type": "markdown",
   "metadata": {},
   "source": [
    "# Promises\n",
    "\n",
    "## What is a Promise?\n",
    "A \"promise\" is an object that represents a value. We don't actually care whether or not the value is available now, we just want to be able to use it.\n",
    "\n",
    "Let's try it out.\n",
    "\n"
   ]
  },
  {
   "cell_type": "code",
   "execution_count": 23,
   "metadata": {
    "collapsed": false,
    "scrolled": false
   },
   "outputs": [
    {
     "data": {
      "text/plain": [
       "{}"
      ]
     },
     "execution_count": 23,
     "metadata": {},
     "output_type": "execute_result"
    }
   ],
   "source": [
    "promise = $.Deferred()\n",
    "\n",
    "promise.then(function(value) {\n",
    "    console.log(\"Count: \" + value)\n",
    "})"
   ]
  },
  {
   "cell_type": "code",
   "execution_count": 24,
   "metadata": {
    "collapsed": false
   },
   "outputs": [
    {
     "name": "stdout",
     "output_type": "stream",
     "text": [
      "Count: 23\n"
     ]
    },
    {
     "data": {
      "text/plain": [
       "{}"
      ]
     },
     "execution_count": 24,
     "metadata": {},
     "output_type": "execute_result"
    }
   ],
   "source": [
    "promise.resolve(23)"
   ]
  },
  {
   "cell_type": "markdown",
   "metadata": {},
   "source": [
    "## What just happened?\n",
    "A promise has three states:\n",
    "\n",
    "* **Pending** - The value is not available yet\n",
    "* **Fulfilled** - The promise succeeded and the value is available\n",
    "* **Rejected** - The promise failed for some reason\n",
    "\n",
    "We say a promise has ***settled*** if it is fulfilled or rejected. We can fulfill or reject a promise by using [`.resolve()`](https://api.jquery.com/deferred.resolve/) and [`.reject()`](https://api.jquery.com/deferred.reject/), each of which take optional data to resolve/reject with.\n",
    "\n",
    "\n",
    "## Getting the goods\n",
    "\n",
    "There are three ways of accessing the value:\n",
    "\n",
    "* [`.then(onFulfilled, onRejected)`](https://api.jquery.com/deferred.then/) - runs the appropriate function depending on whether the promise was fulfilled or rejected.\n",
    "* [`.done(fn)`](https://api.jquery.com/deferred.done/) - runs the function if the promise was fulfilled.\n",
    "* [`.fail(fn)`](https://api.jquery.com/deferred.fail/) - runs the function if the promise was rejected."
   ]
  },
  {
   "cell_type": "markdown",
   "metadata": {},
   "source": [
    "## Wait, this looks like callbacks again!\n",
    "Well, not quite. The game changer is *chaining*. Let's look at `.then()`:"
   ]
  },
  {
   "cell_type": "code",
   "execution_count": 27,
   "metadata": {
    "collapsed": false
   },
   "outputs": [
    {
     "data": {
      "text/plain": [
       "{}"
      ]
     },
     "execution_count": 27,
     "metadata": {},
     "output_type": "execute_result"
    }
   ],
   "source": [
    "promise = $.Deferred()\n",
    "\n",
    "promise.then(function(value) {\n",
    "    return 2 + value\n",
    "}).then(function(value) {\n",
    "    console.log(value)\n",
    "})"
   ]
  },
  {
   "cell_type": "code",
   "execution_count": 28,
   "metadata": {
    "collapsed": false
   },
   "outputs": [
    {
     "name": "stdout",
     "output_type": "stream",
     "text": [
      "25\n"
     ]
    },
    {
     "data": {
      "text/plain": [
       "{}"
      ]
     },
     "execution_count": 28,
     "metadata": {},
     "output_type": "execute_result"
    }
   ],
   "source": [
    "promise.resolve(23)"
   ]
  },
  {
   "cell_type": "markdown",
   "metadata": {},
   "source": [
    "# What?!\n",
    "Yeah. `.then()` returns a new promise that resolves to the return value of the function provided! \n",
    "\n",
    "`.done()` and `.fail()` return promises too, but these resolve to the same promise they were chained onto."
   ]
  },
  {
   "cell_type": "code",
   "execution_count": 31,
   "metadata": {
    "collapsed": false
   },
   "outputs": [
    {
     "name": "stdout",
     "output_type": "stream",
     "text": [
      "10\n"
     ]
    }
   ],
   "source": [
    "%%coffee\n",
    "promise = $.Deferred().resolve(10)\n",
    "\n",
    "promise.done((value) -> \n",
    "  return 0\n",
    ")\n",
    "promise.done((value) ->\n",
    "    console.log(value)      \n",
    "  )"
   ]
  },
  {
   "cell_type": "markdown",
   "metadata": {},
   "source": [
    "Let's go through some of the callback pitfalls and see how promises cleans things up. \n",
    "\n",
    "## Nesting\n",
    "No more nesting! Promises mean that we can chain where we would previously nest. Here's the \"pyramid of doom\" example from before, this time using promises."
   ]
  },
  {
   "cell_type": "code",
   "execution_count": 32,
   "metadata": {
    "collapsed": false
   },
   "outputs": [
    {
     "name": "stdout",
     "output_type": "stream",
     "text": [
      "Making requests...\n",
      "\n",
      "{\"headers\":{\"Accept\":\"*/*, application/json, text/javascript, */*; q=0.01\",\"Host\":\"www.httpbin.org\",\"User-Agent\":\"node-XMLHttpRequest\"}}\n",
      "{\"origin\":\"209.117.82.227\"}\n"
     ]
    }
   ],
   "source": [
    "%%coffee\n",
    "make_requests = () ->\n",
    "  promise = $.get('http://www.httpbin.org/delay/1')\n",
    "    .then((response) -> \n",
    "      return $.getJSON('http://www.httpbin.org/headers')\n",
    "    )\n",
    "  return promise\n",
    "  \n",
    "console.log(\"Making requests...\\n\")\n",
    "\n",
    "make_requests()\n",
    "  .then((response) ->\n",
    "    console.log(response)\n",
    "    return $.getJSON('http://www.httpbin.org/ip')\n",
    "  )\n",
    "  .then((response) -> \n",
    "    console.log(response)\n",
    "  )"
   ]
  },
  {
   "cell_type": "markdown",
   "metadata": {},
   "source": [
    "## Error Handling\n",
    "If a promise fails, then everything chained onto it also fails. This lets us use `.fail()` like a `catch` block and avoid duplicating code!"
   ]
  },
  {
   "cell_type": "code",
   "execution_count": 45,
   "metadata": {
    "collapsed": false
   },
   "outputs": [
    {
     "name": "stdout",
     "output_type": "stream",
     "text": [
      "Failed!\n",
      "{\"data\":\"success\"}\n"
     ]
    }
   ],
   "source": [
    "%%coffee\n",
    "promise = $.get('http://www.httpbin.org/status/404')\n",
    "\n",
    "promise.then((response) ->\n",
    "  return $.get('http://www.httpbin.org/headers')\n",
    "  )\n",
    "  .then((response) ->\n",
    "    return $.get('http://www.httpbin.org/delay/1')     \n",
    "  , (response) ->\n",
    "    console.log(\"Failed!\")\n",
    "    return $.Deferred().resolve({data: \"success\"})\n",
    "  )\n",
    "  .then((response) ->\n",
    "    console.log(response)\n",
    "  )\n",
    "  .fail(->\n",
    "    console.log(\"Operation failed!\")     \n",
    "  )"
   ]
  },
  {
   "cell_type": "markdown",
   "metadata": {},
   "source": [
    "None of the `.then()`s executed! This makes sense: if a line throws an exception in a `try` block, we don't continue executing the next line; we jump straight to the `catch`. With promises, all the error handlers get called.\n",
    "## Storing results\n",
    "It doesn't matter whether the promise has settled or not, the interface is the same. If you chain onto a settled promise, the function executes immediately (and synchronously.) This means we get caching out of the box!"
   ]
  },
  {
   "cell_type": "code",
   "execution_count": 35,
   "metadata": {
    "collapsed": false
   },
   "outputs": [
    {
     "data": {
      "text/plain": [
       "{}"
      ]
     },
     "execution_count": 35,
     "metadata": {},
     "output_type": "execute_result"
    },
    {
     "name": "stdout",
     "output_type": "stream",
     "text": [
      "{\"data\":\"stuff\"}\n"
     ]
    }
   ],
   "source": [
    "// Return data after one second\n",
    "promise = $.get('http://www.httpbin.org/delay/1').then(function(){\n",
    "    return {data: \"stuff\"}\n",
    "})\n",
    "    \n",
    "promise.then(function(data) {\n",
    "    console.log(data)\n",
    "})"
   ]
  },
  {
   "cell_type": "code",
   "execution_count": 36,
   "metadata": {
    "collapsed": false
   },
   "outputs": [
    {
     "name": "stdout",
     "output_type": "stream",
     "text": [
      "{\"data\":\"stuff\"}\n"
     ]
    },
    {
     "data": {
      "text/plain": [
       "{}"
      ]
     },
     "execution_count": 36,
     "metadata": {},
     "output_type": "execute_result"
    }
   ],
   "source": [
    "promise.then(function(data) {\n",
    "    console.log(data)\n",
    "})"
   ]
  },
  {
   "cell_type": "markdown",
   "metadata": {},
   "source": [
    "The second access to `data_promise` executes immediately because it's already been fulfilled. Once a promise has settled, it's locked in and cannot be changed. This is similar to callbacks: once the callback is called, the value can't change mid-function!\n",
    "\n",
    "This lets us pass around promise objects like they're normal variables. And since the only way to access that data is through the chaining functions, there's no duplicated code for synchronous vs. asynchronous accesses."
   ]
  },
  {
   "cell_type": "markdown",
   "metadata": {},
   "source": [
    "# Using promises in your code\n",
    "Here's just a couple of useful things you can use promises for in your code.\n",
    "\n",
    "## Faking a backend\n",
    "Sometimes you will find yourself needing a backend that doesn't exist yet. Promises let you abstract away the fetch so that the caller's code doesn't change when the backend is implemented."
   ]
  },
  {
   "cell_type": "code",
   "execution_count": 37,
   "metadata": {
    "collapsed": false
   },
   "outputs": [
    {
     "name": "stdout",
     "output_type": "stream",
     "text": [
      "Completely random dice roll: 4\n"
     ]
    }
   ],
   "source": [
    "%%coffee\n",
    "# Supposed to fetch a number from the server\n",
    "fetch_random_number = ->\n",
    "  return $.Deferred().resolve(4)\n",
    "\n",
    "# Somewhere else...\n",
    "fetch_random_number().then((value) ->\n",
    "  # No idea if an ajax fetch actually happened, I just want the value\n",
    "  console.log(\"Completely random dice roll: \" + value)\n",
    ")"
   ]
  },
  {
   "cell_type": "markdown",
   "metadata": {},
   "source": [
    "## Waiting for multiple ajax requests\n",
    "Don't even ask how this would be done with callbacks. Use `$.when()`! \n",
    "\n",
    "`$.when` takes promises as its arguments and returns a mega-promise that resolves when all the promises resolve. The mega-promise resolves to a series of values, one for each promise passed into the `when()`. Each one is an array representing the arguments that the promise resolved to. If even one of the promises is rejected, the mega-promise is immediately rejected as well."
   ]
  },
  {
   "cell_type": "code",
   "execution_count": 39,
   "metadata": {
    "collapsed": false
   },
   "outputs": [
    {
     "name": "stdout",
     "output_type": "stream",
     "text": [
      "[Array] [{\"headers\":{\"Accept\":\"*/*, application/json, text/javascript, */*; q=0.01\",\"Host\":\"www.httpbin.org\",\"User-Agent\":\"node-XMLHttpRequest\"}},\"success\",{\"readyState\":4,\"responseText\":\"{\\n  \\\"headers\\\": {\\n    \\\"Accept\\\": \\\"*/*, application/json, text/javascript, */*; q=0.01\\\", \\n    \\\"Host\\\": \\\"www.httpbin.org\\\", \\n    \\\"User-Agent\\\": \\\"node-XMLHttpRequest\\\"\\n  }\\n}\\n\",\"responseJSON\":{\"headers\":{\"Accept\":\"*/*, application/json, text/javascript, */*; q=0.01\",\"Host\":\"www.httpbin.org\",\"User-Agent\":\"node-XMLHttpRequest\"}},\"status\":200,\"statusText\":\"success\"}]\n",
      "\n",
      "[Array] [{\"origin\":\"209.117.82.227\"},\"success\",{\"readyState\":4,\"responseText\":\"{\\n  \\\"origin\\\": \\\"209.117.82.227\\\"\\n}\\n\",\"responseJSON\":{\"origin\":\"209.117.82.227\"},\"status\":200,\"statusText\":\"success\"}]\n"
     ]
    }
   ],
   "source": [
    "%%coffee\n",
    "headers = $.getJSON('http://www.httpbin.org/headers')\n",
    "ip = $.getJSON('http://www.httpbin.org/ip')\n",
    "\n",
    "$.when(headers, ip)\n",
    "  .then((headers_response, ip_response) ->\n",
    "    # Don't run this until everything succeeded!\n",
    "    console.log(headers_response)\n",
    "    console.log('')\n",
    "    console.log(ip_response)\n",
    "  )\n",
    "  .fail(->\n",
    "    console.log(\"oh no!\")     \n",
    "  )"
   ]
  },
  {
   "cell_type": "markdown",
   "metadata": {},
   "source": [
    "## Converting from Callbacks\n",
    "Sometimes we are forced to use a callback-driven API. Examples of this include `setTimeout` and jQuery's `.on()` for registering event listeners. If you have functions that make such a call, you don't have to take a callback! Instead, create a promise and resolve it where you would otherwise call the callback."
   ]
  },
  {
   "cell_type": "code",
   "execution_count": 40,
   "metadata": {
    "collapsed": false
   },
   "outputs": [
    {
     "name": "stdout",
     "output_type": "stream",
     "text": [
      "Hiding modal...\n",
      "\n",
      "Modal hidden!\n"
     ]
    }
   ],
   "source": [
    "%%coffee\n",
    "hide_modal = ->\n",
    "  promise = $.Deferred()\n",
    "  \n",
    "  # Pretend this is $('#modal').on('hide', fn)\n",
    "  setTimeout(->\n",
    "    promise.resolve()\n",
    "  , 1000)\n",
    "  \n",
    "  return promise\n",
    "\n",
    "console.log(\"Hiding modal...\\n\")\n",
    "hide_modal().then(->\n",
    "  console.log(\"Modal hidden!\")                 \n",
    ")"
   ]
  },
  {
   "cell_type": "markdown",
   "metadata": {},
   "source": [
    "# Differences with Promise/A+ spec\n",
    "\n",
    "`$.Deferred` is not compliant with the Promises spec. The most important difference to know is that it doesn't do error handling properly. First, let's look at ECMA6 Promises."
   ]
  },
  {
   "cell_type": "code",
   "execution_count": 41,
   "metadata": {
    "collapsed": false
   },
   "outputs": [
    {
     "name": "stdout",
     "output_type": "stream",
     "text": [
      "Oh no!\n"
     ]
    }
   ],
   "source": [
    "%%coffee\n",
    "promise = new Promise((resolve, reject) ->\n",
    "  resolve()\n",
    ")\n",
    "promise.then(->\n",
    "  throw Error(\"Oh no!\")\n",
    ")\n",
    "  .catch((reason) ->  # .catch() == .fail()\n",
    "    console.log(reason.message)      \n",
    "  )"
   ]
  },
  {
   "cell_type": "markdown",
   "metadata": {},
   "source": [
    "And now let's look at how `Deferred` objects handle the same situation."
   ]
  },
  {
   "cell_type": "code",
   "execution_count": 42,
   "metadata": {
    "collapsed": false
   },
   "outputs": [
    {
     "ename": "Javascript Error",
     "evalue": "Oh no!",
     "output_type": "error",
     "traceback": [
      "Error: Oh no!\n    at Error (native)\n    at Object.<anonymous> (<anonymous>:7:11)\n    at <anonymous>:12:11\n    at <anonymous>:14:4"
     ]
    }
   ],
   "source": [
    "%%coffee\n",
    "promise = $.Deferred()\n",
    "promise.then(->\n",
    "  throw Error(\"Oh no!\")            \n",
    ")\n",
    "  .fail((reason) ->\n",
    "    console.log(reason)\n",
    "  )\n",
    "promise.resolve()"
   ]
  },
  {
   "cell_type": "markdown",
   "metadata": {},
   "source": [
    "The error is completely uncaught and crashes the entire application! The way around this is to return a rejected promise instead of throwing an error. It's not a perfect solution, but it's still better than callbacks."
   ]
  },
  {
   "cell_type": "code",
   "execution_count": 43,
   "metadata": {
    "collapsed": false
   },
   "outputs": [
    {
     "name": "stdout",
     "output_type": "stream",
     "text": [
      "Oh no!\n"
     ]
    }
   ],
   "source": [
    "%%coffee\n",
    "promise = $.Deferred()\n",
    "promise.then(->\n",
    "  return $.Deferred().reject(\"Oh no!\")            \n",
    ")\n",
    "  .fail((reason) ->\n",
    "    console.log(reason)\n",
    "  )\n",
    "promise.resolve()"
   ]
  },
  {
   "cell_type": "code",
   "execution_count": null,
   "metadata": {
    "collapsed": true
   },
   "outputs": [],
   "source": [
    "%%coffee\n",
    "promise = $.Deferred()\n",
    "\n",
    "promise.promise()"
   ]
  }
 ],
 "metadata": {
  "kernelspec": {
   "display_name": "NodeJS",
   "language": "javascript",
   "name": "nodejs"
  },
  "language_info": {
   "codemirror_mode": "javascript",
   "file_extension": "js",
   "mimetype": "text/javascript",
   "name": "nodejs",
   "pygments_lexer": "javascript",
   "version": "0.10"
  }
 },
 "nbformat": 4,
 "nbformat_minor": 0
}
